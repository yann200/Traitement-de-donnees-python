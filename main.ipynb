{
 "cells": [
  {
   "cell_type": "code",
   "execution_count": 1,
   "id": "a4ea20f5",
   "metadata": {},
   "outputs": [],
   "source": [
    "import Estimation as es\n",
    "import Pretraitement as pre"
   ]
  },
  {
   "cell_type": "code",
   "execution_count": 2,
   "id": "4333ac10",
   "metadata": {},
   "outputs": [],
   "source": [
    "def main():\n",
    "    v = True\n",
    "    while v:\n",
    "        print(\"\\n*************************PROJET PYTHON************************\")\n",
    "        print(\"\\t1.** PRETRAITEMENT **\")\n",
    "        print(\"\\t2.** ESTIMATION **\")\n",
    "        print('\\t0.** Pour quitter **')\n",
    "        choix = int(input(\"Choix : \"))\n",
    "    \n",
    "        if choix == 1:\n",
    "            print(\"\\t1. Visualiser données manquantes \")\n",
    "            print(\"\\t2. Supprimer colonne\")\n",
    "            print(\"\\t3. Supprimer ligne\")\n",
    "            print(\"\\t4. Remplacer valeurs manquantes d'une colonne numérique\")\n",
    "            print(\"\\t5. Remplacer valeurs manquantes d'une colonne catégorielle\")\n",
    "            print(\"\\t6. Remplacer valeurs manquantes d'une colonne par régression multiple\")                      \n",
    "            choix1 = int(input(\"Choix1 : \"))\n",
    "            \n",
    "            if choix1 == 1:\n",
    "                pre.affiche()\n",
    "                #time.sleep(10)\n",
    "            if choix1 == 2:\n",
    "                n = int(input(\"Entrer le numéro de la colonne à supprimer :\"))\n",
    "                pre.supcol(n)\n",
    "            if choix1 == 3:\n",
    "                n = int(input(\"Entrer le numéro de la ligne à supprimer :\"))\n",
    "                pre.suplign(n)   \n",
    "            if choix1 == 4:\n",
    "                n = input(\"Entrer le nom de la colonne :\")\n",
    "                pre.remplacenum(n)\n",
    "            if choix1 == 5:\n",
    "                n = input(\"Entrer le nom de la colonne :\")\n",
    "                pre.remplacecat(n)\n",
    "            if choix1 == 6:\n",
    "                n1 = input(\"Entrer le nom de la colonne a expliquer\")\n",
    "                n2 = [input(\"Entrer le/les nom(s) des colonnes explicatives\")]\n",
    "                pre.predict_replace(n1,n2)\n",
    "           \n",
    "        if choix == 2:\n",
    "            print(\"\\t1. Supprimer colonne i \")\n",
    "            print(\"\\t2. Visualiser les valeurs de la colonne i\")\n",
    "            print(\"\\t3. Visualiser valeurs de COTIS_BDG\")\n",
    "            print(\"\\t4. Interpolation\")\n",
    "            print(\"\\t5. Visualiser valeurs colonnes\")\n",
    "            print(\"\\t6. Visualiser statistiques  CoTIS_DBG, COTIS_VOL, et COTIS_DOM\")       \n",
    "            print(\"\\t7. Visualiser  total des colonnes CoTIS_DBG, COTIS_VOL, et COTIS_VOL suivant le sexe\")\n",
    "            print(\"\\t8. Visualiser  total des colonnes CoTIS_DBG, COTIS_VOL, et COTIS_VOL suivant l'annee\")\n",
    "            choix2 = int(input(\"Choix2 : \"))\n",
    "            \n",
    "            if choix2 == 1:\n",
    "                n = int(input(\"Entrer le numéro de la colonne à supprimer :\"))\n",
    "                es.supcol(n) \n",
    "            if choix2 == 2:\n",
    "                n = input(\"Entrer le nom de la colonne :\")\n",
    "                es.valcol(n)\n",
    "            if choix2 == 3:\n",
    "                 es.visual()   \n",
    "            if choix2 == 4:\n",
    "                n1 = int(input('Entrer le numero de la premiere colonne :'))\n",
    "                n2 = int(input('Entrer le numero de la deuxieme colonne :'))\n",
    "                es.interp(n1,n2)  \n",
    "            if choix2 == 5:\n",
    "                n = int(input(\"Entrer le numéro de la colonne à Visualiser :\"))\n",
    "                es.statcol(n)\n",
    "            if choix2 == 6:\n",
    "                n = input(\"Entrer la marque du vehicule :\")\n",
    "                es.stat(n)\n",
    "            if choix2 == 7:\n",
    "                es.affiche1()\n",
    "            if choix2 == 8:\n",
    "                es.affiche2()           \n",
    "                #time.sleep(5)\n",
    "        if choix == 0:\n",
    "            v = False\n",
    "        "
   ]
  },
  {
   "cell_type": "code",
   "execution_count": null,
   "id": "c6c71b88",
   "metadata": {},
   "outputs": [],
   "source": []
  },
  {
   "cell_type": "code",
   "execution_count": 1,
   "id": "ae2d9775",
   "metadata": {},
   "outputs": [],
   "source": []
  },
  {
   "cell_type": "code",
   "execution_count": null,
   "id": "bf2e72e8",
   "metadata": {},
   "outputs": [],
   "source": []
  },
  {
   "cell_type": "markdown",
   "id": "8488fd46",
   "metadata": {},
   "source": []
  },
  {
   "cell_type": "code",
   "execution_count": null,
   "id": "37190428",
   "metadata": {},
   "outputs": [],
   "source": []
  },
  {
   "cell_type": "code",
   "execution_count": null,
   "id": "1c70a51b",
   "metadata": {},
   "outputs": [],
   "source": []
  }
 ],
 "metadata": {
  "kernelspec": {
   "display_name": "Python 3 (ipykernel)",
   "language": "python",
   "name": "python3"
  },
  "language_info": {
   "codemirror_mode": {
    "name": "ipython",
    "version": 3
   },
   "file_extension": ".py",
   "mimetype": "text/x-python",
   "name": "python",
   "nbconvert_exporter": "python",
   "pygments_lexer": "ipython3",
   "version": "3.9.7"
  }
 },
 "nbformat": 4,
 "nbformat_minor": 5
}
