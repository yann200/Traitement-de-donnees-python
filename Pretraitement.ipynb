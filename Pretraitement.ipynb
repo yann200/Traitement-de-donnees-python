{
 "cells": [
  {
   "cell_type": "code",
   "execution_count": 44,
   "id": "e4874ad0",
   "metadata": {},
   "outputs": [],
   "source": [
    "import pandas as pd\n",
    "import numpy as np\n",
    "import pandas.api.types as pand\n",
    "import matplotlib.pyplot as plt\n",
    "from statistics import mode\n",
    "from sklearn.linear_model import LinearRegression"
   ]
  },
  {
   "cell_type": "code",
   "execution_count": 20,
   "id": "453d3307",
   "metadata": {},
   "outputs": [],
   "source": [
    "risk = pd.read_excel('1702231451658_Risques.xlsx',sheet_name = 'Risques_net')"
   ]
  },
  {
   "cell_type": "code",
   "execution_count": 54,
   "id": "b3317133",
   "metadata": {},
   "outputs": [],
   "source": [
    "#question 1\n",
    "def affiche():\n",
    "    nbval = pd.DataFrame(columns = ['nbre de valeurs manquantes'],index = risk.columns, data = risk.isnull().sum() )\n",
    "    plt.barh(risk.columns,nbval['nbre de valeurs manquantes'])\n",
    "    plt.show()\n",
    "    print(nbval)\n"
   ]
  },
  {
   "cell_type": "code",
   "execution_count": 79,
   "id": "7bfb1a40",
   "metadata": {},
   "outputs": [
    {
     "name": "stdout",
     "output_type": "stream",
     "text": [
      "<class 'pandas.core.frame.DataFrame'>\n",
      "RangeIndex: 18736 entries, 0 to 18735\n",
      "Data columns (total 22 columns):\n",
      " #   Column         Non-Null Count  Dtype         \n",
      "---  ------         --------------  -----         \n",
      " 0   CLE_RISQ       18736 non-null  int64         \n",
      " 1   NUM_SOC        18736 non-null  int64         \n",
      " 2   NUM_CONT       18736 non-null  int64         \n",
      " 3   DAT_DEB        18736 non-null  datetime64[ns]\n",
      " 4   DAT_FIN        18736 non-null  datetime64[ns]\n",
      " 5   SEXE           18736 non-null  object        \n",
      " 6   MARQUE         18736 non-null  object        \n",
      " 7   CD_USAG        18736 non-null  object        \n",
      " 8   COEF           18736 non-null  int64         \n",
      " 9   ZONE           18736 non-null  int64         \n",
      " 10  GROUPE_sra     17653 non-null  float64       \n",
      " 11  CLASSE_Sra     17653 non-null  object        \n",
      " 12  GAR_BDG        18736 non-null  object        \n",
      " 13  GAR_VOL        17007 non-null  object        \n",
      " 14  GAR_DOM        13780 non-null  object        \n",
      " 15  NB_RISQ        18736 non-null  float64       \n",
      " 16  COTIS_BDG      18736 non-null  float64       \n",
      " 17  COTIS_VOL      18736 non-null  float64       \n",
      " 18  COTIS_DOM      18736 non-null  float64       \n",
      " 19  PUIS_DIN       18736 non-null  int64         \n",
      " 20  datfin-datdeb  18736 non-null  int64         \n",
      " 21  Unnamed: 21    1 non-null      float64       \n",
      "dtypes: datetime64[ns](2), float64(6), int64(7), object(7)\n",
      "memory usage: 3.1+ MB\n"
     ]
    }
   ],
   "source": [
    "risk.info()"
   ]
  },
  {
   "cell_type": "code",
   "execution_count": 26,
   "id": "1fb0fc1e",
   "metadata": {},
   "outputs": [],
   "source": [
    "#question 2 (le numero de la colonne est en parametre)\n",
    "def supcol(i): \n",
    "    \n",
    "    if i in range(0,21):\n",
    "        rep = input(\"ëtes Vous sûr de vouloir supprimer la colonne ? Oui/Non\")\n",
    "        if rep == \"oui\":\n",
    "                del risk[risk.columns[i]]\n",
    "                print(\"Suppression reussi\")\n",
    "        else:\n",
    "                print(\"Suppression annulee\")\n",
    "    else:\n",
    "        print('Valeur invalide, le maximum de colonnes est de 20')"
   ]
  },
  {
   "cell_type": "code",
   "execution_count": 28,
   "id": "449390b8",
   "metadata": {},
   "outputs": [],
   "source": [
    "#question 3 (le numero de la ligne est en parametre)\n",
    "def suplign(i):\n",
    "    global risk\n",
    "    if i in range(0,18735):\n",
    "        risk = risk.drop([i])\n",
    "        print('suppression reussie')\n",
    "    else:\n",
    "        print('Valeur invalide, le maximum de lignes est de 18734')"
   ]
  },
  {
   "cell_type": "code",
   "execution_count": 28,
   "id": "3693464f",
   "metadata": {},
   "outputs": [],
   "source": [
    "#question 4\n",
    "\n",
    "def remplacenum(i):\n",
    "    \n",
    "        if risk[i].dtypes != object  and pand.is_datetime64_any_dtype(risk[i]) == False: #on verifie qu on travaille avec une colonne numerique\n",
    "            if risk[i].isna().values.any():  # on verifie s il y a au moins une valeur manquante  \n",
    "                risk[i].fillna(risk[i].mean(), inplace = True)\n",
    "                print(\"Remplacement reussie\")\n",
    "            else:\n",
    "                print(\"Aucune valeur manquante dans la colonne\")\n",
    "        else :\n",
    "            print(\"La colonne n'est pas numerique\")"
   ]
  },
  {
   "cell_type": "code",
   "execution_count": null,
   "id": "30a22e76",
   "metadata": {},
   "outputs": [],
   "source": [
    "#question 5\n",
    "def remplacecat(i):\n",
    "    if risk[i].dtypes == object:\n",
    "        if risk[i].isna().values.any():\n",
    "            risk[i].fillna(mode(risk[i]), inplace = True)\n",
    "            print(\"Remplacement reussi\")\n",
    "        else:\n",
    "            print('Aucune valeur manquante')\n",
    "    else:\n",
    "        print(\"La colonne n est pas categorielle\")"
   ]
  },
  {
   "cell_type": "code",
   "execution_count": 72,
   "id": "05938556",
   "metadata": {},
   "outputs": [],
   "source": [
    "#question 6\n",
    "\n",
    "def predict_replace(colExpliquer,colExplicative):\n",
    "    n = 0\n",
    "    for col in colExplicative:\n",
    "        \n",
    "        if risk[col].dtypes != object  and pand.is_datetime64_any_dtype(risk[col]) == False:\n",
    "            n+=1\n",
    "    if n == len(colExplicative):\n",
    "        if risk[colExpliquer].dtypes != object  and pand.is_datetime64_any_dtype(risk[colExpliquer]) == False:\n",
    "              if risk[colExpliquer].isna().values.any():\n",
    "                    # donnees d'entranement\n",
    "                    y = np.array(risk[colExpliquer][~risk[colExpliquer].isna()])\n",
    "                    x = risk[colExplicative][~risk[colExpliquer].isna()]\n",
    "                    #creation du modele de regression lineaire\n",
    "                    lr = LinearRegression()\n",
    "                    #entrainement du modele\n",
    "                    lr.fit(x,y)\n",
    "                    #prediction des valeurs manquantes\n",
    "                    predi_y = lr.predict(risk[colExplicative][risk[colExpliquer].isna()])\n",
    "                    risk[colExpliquer][risk[colExpliquer].isna()] = predi_y\n",
    "                    \n",
    "                    print(\"Remplacement effectue, nbre de val manquantes :\",risk[colExpliquer].isna().sum())\n",
    "            \n",
    "              else:\n",
    "                    print(\"Aucune donnees manquante dans la colonne a expliquer\")\n",
    "            \n",
    "        else:\n",
    "            print(\"la colonne a expliquer doit etre numerique\")\n",
    "    else:\n",
    "        print(\"Toutes les colonnes explicatives doivent etre numerique\")\n",
    "            \n",
    "            "
   ]
  },
  {
   "cell_type": "code",
   "execution_count": null,
   "id": "41da26b6",
   "metadata": {},
   "outputs": [],
   "source": []
  }
 ],
 "metadata": {
  "kernelspec": {
   "display_name": "Python 3 (ipykernel)",
   "language": "python",
   "name": "python3"
  },
  "language_info": {
   "codemirror_mode": {
    "name": "ipython",
    "version": 3
   },
   "file_extension": ".py",
   "mimetype": "text/x-python",
   "name": "python",
   "nbconvert_exporter": "python",
   "pygments_lexer": "ipython3",
   "version": "3.9.7"
  }
 },
 "nbformat": 4,
 "nbformat_minor": 5
}
